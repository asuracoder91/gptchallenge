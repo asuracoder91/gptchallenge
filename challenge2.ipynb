{
 "cells": [
  {
   "cell_type": "code",
   "execution_count": 1,
   "metadata": {},
   "outputs": [
    {
     "name": "stdout",
     "output_type": "stream",
     "text": [
      "AI: \n",
      "        The Shawshank Redemption(쇼생크 탈출)에 대한 상세한 정보는 다음과 같습니다:\n",
      "        감독: 프랭크 다라본트\n",
      "        출연: 팀 로빈스, 모건 프리먼, 밥 건튼 등\n",
      "        예산: 2천 5백만 달러 (한화 약 3,000억 원)\n",
      "        수익: 2천 8백만 달러 (한화 약 3,300억 원)\n",
      "        장르: 드라마\n",
      "        시놉시스: 뱅크 매니저인 앤디(팀 로빈스)는 아내와 그녀의 연인을 살해한 혐의로 무죄를 주장하지만 유죄 판결을 받고 쇼생크 교도소에 감옥에 갇히게 된다. 교도소 내에서 앤디는 친구 레드(모건 프리먼)와 함께 생존과 희망을 찾아가는 이야기를 그린다. 앤디는 교도소 내에서도 자신의 능력을 발휘하며 다양한 사건들을 해결하고, 교도소 내부에서도 존경받는 존재가 된다. 그러나 앤디는 교도소에서 탈출을 계획하고, 그 계획을 실행하기 위해 노력한다. 그의 탈출과 그 후의 이야기가 감동적으로 그려진다.\n",
      "        평점: 9.3/10 (IMDb), 91% (Rotten Tomatoes), 80% (Metacritic)\n",
      "        명대사: \"Get busy living, or get busy dying.\" (\"살아가거나 죽어가거나.\")\n",
      "              \"Hope is a good thing, maybe the best of things, and no good thing ever dies.\" (\"희망은 좋은 것이다, 아마도 가장 좋은 것이며, 좋은 것은 결코 죽지 않는다.\")"
     ]
    },
    {
     "data": {
      "text/plain": [
       "AIMessageChunk(content='AI: \\n        The Shawshank Redemption(쇼생크 탈출)에 대한 상세한 정보는 다음과 같습니다:\\n        감독: 프랭크 다라본트\\n        출연: 팀 로빈스, 모건 프리먼, 밥 건튼 등\\n        예산: 2천 5백만 달러 (한화 약 3,000억 원)\\n        수익: 2천 8백만 달러 (한화 약 3,300억 원)\\n        장르: 드라마\\n        시놉시스: 뱅크 매니저인 앤디(팀 로빈스)는 아내와 그녀의 연인을 살해한 혐의로 무죄를 주장하지만 유죄 판결을 받고 쇼생크 교도소에 감옥에 갇히게 된다. 교도소 내에서 앤디는 친구 레드(모건 프리먼)와 함께 생존과 희망을 찾아가는 이야기를 그린다. 앤디는 교도소 내에서도 자신의 능력을 발휘하며 다양한 사건들을 해결하고, 교도소 내부에서도 존경받는 존재가 된다. 그러나 앤디는 교도소에서 탈출을 계획하고, 그 계획을 실행하기 위해 노력한다. 그의 탈출과 그 후의 이야기가 감동적으로 그려진다.\\n        평점: 9.3/10 (IMDb), 91% (Rotten Tomatoes), 80% (Metacritic)\\n        명대사: \"Get busy living, or get busy dying.\" (\"살아가거나 죽어가거나.\")\\n              \"Hope is a good thing, maybe the best of things, and no good thing ever dies.\" (\"희망은 좋은 것이다, 아마도 가장 좋은 것이며, 좋은 것은 결코 죽지 않는다.\")')"
      ]
     },
     "execution_count": 1,
     "metadata": {},
     "output_type": "execute_result"
    }
   ],
   "source": [
    "from langchain.chat_models import ChatOpenAI\n",
    "from langchain.prompts.few_shot import FewShotPromptTemplate\n",
    "from langchain.callbacks import StreamingStdOutCallbackHandler\n",
    "from langchain.prompts import PromptTemplate\n",
    "chat = ChatOpenAI(temperature=0.1, streaming=True, callbacks=[StreamingStdOutCallbackHandler(),],)\n",
    "\n",
    "examples = [\n",
    "    {\n",
    "        \"question\": \"영화 Gladiator에 대한 상세한 정보를 알려줘\",\n",
    "        \"answer\": \"\"\"\n",
    "        Gladiator(글래디에이터)에 대한 상세한 정보는 다음과 같습니다:\n",
    "        감독: 리들리 스콧\n",
    "        출연: 러셀 크로, 호아킨 피닉스, 코니 닐슨 등\n",
    "        예산: 1억 3백만 달러 (한화 약 1,500억 원)\n",
    "        수익: 4억 5천만 달러 (한화 약 5,000억 원)\n",
    "        장르: 액션, 드라마, 역사\n",
    "        시놉시스: 로마 제국의 황제 마르쿠스 아우렐리우스가 죽자, 그의 후계자를 놓고 친구들과 대립하게 된다. 그의 후계자로 지목된 것은 로마의 군대장관 막시무스. 그러나 황제의 아들 코모두스는 황제의 자리를 빼앗기 위해 막시무스를 죽이고 자신이 황제가 되기로 결심한다. 막시무스는 코모두스에게 죽임을 당하고, 그의 가족은 죽임을 당하게 된다. 그러나 막시무스는 죽음을 피하고 로마의 노예로 살게 된다. 그는 로마의 노예로서 살아가면서 코모두스에게 복수하기 위해 그의 노예로서의 삶을 이용하게 된다.\n",
    "        평점: 8.5/10 (IMDb), 76% (Rotten Tomatoes), 67% (Metacritic)\n",
    "        명대사: \"Are you not entertained?\" (\"즐거운가?\")\n",
    "              \"What we do in life echoes in eternity.\" (\"우리가 살아가는 방식이 영원히 반영된다.\")\n",
    "        \"\"\",\n",
    "    },\n",
    "    {\n",
    "       \"question\": \"영화 The Godfather에 대한 상세한 정보를 알려줘\",\n",
    "        \"answer\": \"\"\"\n",
    "        The Godfather(대부)에 대한 상세한 정보는 다음과 같습니다:\n",
    "        감독: 프란시스 포드 코폴라\n",
    "        출연: 말론 브란도, 알 파치노, 제임스 칸 등\n",
    "        예산: 6백만 달러 (한화 약 700억 원)\n",
    "        수익: 2억 4천만 달러 (한화 약 2,800억 원)\n",
    "        장르: 범죄, 드라마\n",
    "        시놉시스: 1947년 돈 코를레오네의 호화 저택에서는 막내딸 코니와 카를로와의 초호화판 결혼식이 거행되고 있다. 시실리아에서의 이민과 모진 고생 끝에 미국 암흑가의 보스로 군림하는 마피아의 두목 돈 코를레오네. 재력과 조직력을 동원, 갖가지 고민을 호소하는 사람들의 문제를 해결해, 사람들은 그를 ‘대부(代父)’라 부른다. 돈 코를레오네는 9세때 그의 고향인 시실리아에서 가족 모두가 살해 당하고 오직 그만 살아남아 미국으로 도피하여 밑바닥 범죄 세계를 경험하면서 확고한 기반을 다지게 된다. 부모의 복수를 위해 시실리로 돌아와 조직적 범죄를 통해 비약적인 성공을 거두게 된다. 그러던 어느날 돈 코를레오네의 라이벌인 탓타리아 패밀리의 마약 밀매인 소롯소가 돈 코를레오네를 저격, 중상을 입히는데...\n",
    "        평점: 9.2/10 (IMDb), 98% (Rotten Tomatoes), 100% (Metacritic)\n",
    "        명대사: \"I'm gonna make him an offer he can't refuse.\" (\"그에게 거절할 수 없는 제안을 할 것이다.\")\n",
    "              \"Keep your friends close, but your enemies closer.\" (\"친구는 가까이 두되, 적은 더 가까이 두어라.\")\n",
    "        \"\"\",\n",
    "    },\n",
    "    {\n",
    "        \"question\": \"영화 Top Gun Maverick에 대한 상세한 정보를 알려줘\",\n",
    "        \"answer\": \"\"\"\n",
    "        Top Gun Maverick(탑건: 매버릭)에 대한 상세한 정보는 다음과 같습니다:\n",
    "        감독: 조셉 코신스키\n",
    "        출연: 톰 크루즈, 마일즈 텔러, 제니퍼 코넬리 등\n",
    "        예산: 1억 5천만 달러 (한화 약 1,700억 원)\n",
    "        수익: 2억 3천만 달러 (한화 약 2,700억 원)\n",
    "        장르: 액션, 드라마\n",
    "        시놉시스: 최고의 파일럿이자 전설적인 인물 매버릭(톰 크루즈)은 자신이 졸업한 훈련학교 교관으로 발탁된다. 그의 명성을 모르던 팀원들은 매버릭의 지시를 무시하지만 실전을 방불케 하는 상공 훈련에서 눈으로 봐도 믿기 힘든 전설적인 조종 실력에 모두가 압도된다. 매버릭의 지휘아래 견고한 팀워크를 쌓아가던 팀원들에게 국경을 뛰어넘는 위험한 임무가 주어지자 매버릭은 자신이 가르친 동료들과 함께 마지막이 될 지 모를 하늘 위 비행에 나서는데… \n",
    "        평점: 7.5/10 (IMDb), 74% (Rotten Tomatoes), 60% (Metacritic)\n",
    "        명대사: \"I feel the need, the need for speed.\" (\"나는 속도가 필요해.\")\n",
    "                  \"You can be my wingman anytime.\" (\"넌 언제든 내 윙맨이 될 수 있어.\")\n",
    "        \"\"\",\n",
    "    },\n",
    "]\n",
    "\n",
    "movie_prompt = PromptTemplate.from_template(\"Human: {question}\\nAI: {answer}\\n\")\n",
    "\n",
    "prompt = FewShotPromptTemplate(\n",
    "  example_prompt = movie_prompt,\n",
    "  examples = examples,\n",
    "  suffix = \"Human: 영화 {movie}에 대한 상세한 정보를 알려줘\",\n",
    "  input_variables=[\"movie\"],\n",
    ")\n",
    "\n",
    "chain = prompt | chat\n",
    "\n",
    "chain.invoke({\"movie\":\"The Shawshank Redemption\"})"
   ]
  }
 ],
 "metadata": {
  "kernelspec": {
   "display_name": "env",
   "language": "python",
   "name": "python3"
  },
  "language_info": {
   "codemirror_mode": {
    "name": "ipython",
    "version": 3
   },
   "file_extension": ".py",
   "mimetype": "text/x-python",
   "name": "python",
   "nbconvert_exporter": "python",
   "pygments_lexer": "ipython3",
   "version": "3.11.11"
  }
 },
 "nbformat": 4,
 "nbformat_minor": 2
}
